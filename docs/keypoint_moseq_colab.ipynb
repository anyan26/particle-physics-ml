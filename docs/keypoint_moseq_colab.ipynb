{
  "cells": [
    {
      "cell_type": "markdown",
      "id": "preliminary-agency",
      "metadata": {
        "id": "preliminary-agency"
      },
      "source": [
        "This notebook shows how to setup a new project, train a keypoint-MoSeq model and visualize the resulting syllables.\n",
        "\n",
        "**Total run time: ~90 min.**\n",
        "\n",
        "# Colab setup\n",
        "\n",
        "- Make a copy of this notebook if you plan to make changes and want them saved.\n",
        "- Go to \"Runtime\">\"change runtime type\" and select \"Python 3\" and \"GPU\""
      ]
    },
    {
      "cell_type": "markdown",
      "id": "aaab50c4",
      "metadata": {
        "id": "aaab50c4"
      },
      "source": [
        "### Install keypoint MoSeq"
      ]
    },
    {
      "cell_type": "code",
      "execution_count": 1,
      "id": "84990f8c",
      "metadata": {
        "id": "84990f8c",
        "outputId": "bc2597eb-14e7-4528-8b9d-8343d1335054",
        "colab": {
          "base_uri": "https://localhost:8080/",
          "height": 1000
        }
      },
      "outputs": [
        {
          "output_type": "stream",
          "name": "stdout",
          "text": [
            "Collecting keypoint-moseq\n",
            "  Downloading keypoint_moseq-0.6.0.tar.gz (93 kB)\n",
            "\u001b[?25l     \u001b[90m━━━━━━━━━━━━━━━━━━━━━━━━━━━━━━━━━━━━━━━━\u001b[0m \u001b[32m0.0/93.2 kB\u001b[0m \u001b[31m?\u001b[0m eta \u001b[36m-:--:--\u001b[0m\r\u001b[2K     \u001b[90m━━━━━━━━━━━━━━━━━━━━━━━━━━━━━━━━━━━━━━━━\u001b[0m \u001b[32m93.2/93.2 kB\u001b[0m \u001b[31m5.9 MB/s\u001b[0m eta \u001b[36m0:00:00\u001b[0m\n",
            "\u001b[?25h  Preparing metadata (setup.py) ... \u001b[?25l\u001b[?25hdone\n",
            "Collecting seaborn==0.13.0 (from keypoint-moseq)\n",
            "  Downloading seaborn-0.13.0-py3-none-any.whl.metadata (5.3 kB)\n",
            "Collecting cytoolz (from keypoint-moseq)\n",
            "  Downloading cytoolz-1.0.1-cp311-cp311-manylinux_2_17_x86_64.manylinux2014_x86_64.whl.metadata (4.6 kB)\n",
            "Collecting matplotlib==3.8.4 (from keypoint-moseq)\n",
            "  Downloading matplotlib-3.8.4-cp311-cp311-manylinux_2_17_x86_64.manylinux2014_x86_64.whl.metadata (5.8 kB)\n",
            "Requirement already satisfied: tqdm in /usr/local/lib/python3.11/dist-packages (from keypoint-moseq) (4.67.1)\n",
            "Requirement already satisfied: ipykernel in /usr/local/lib/python3.11/dist-packages (from keypoint-moseq) (6.17.1)\n",
            "Requirement already satisfied: imageio[ffmpeg] in /usr/local/lib/python3.11/dist-packages (from keypoint-moseq) (2.37.0)\n",
            "Requirement already satisfied: statsmodels in /usr/local/lib/python3.11/dist-packages (from keypoint-moseq) (0.14.4)\n",
            "Requirement already satisfied: pyyaml in /usr/local/lib/python3.11/dist-packages (from keypoint-moseq) (6.0.2)\n",
            "Collecting vidio (from keypoint-moseq)\n",
            "  Downloading vidio-0.0.4-py3-none-any.whl.metadata (430 bytes)\n",
            "Requirement already satisfied: holoviews[recommended] in /usr/local/lib/python3.11/dist-packages (from keypoint-moseq) (1.20.2)\n",
            "Requirement already satisfied: bokeh in /usr/local/lib/python3.11/dist-packages (from keypoint-moseq) (3.7.2)\n",
            "Requirement already satisfied: pandas in /usr/local/lib/python3.11/dist-packages (from keypoint-moseq) (2.2.2)\n",
            "Requirement already satisfied: tables in /usr/local/lib/python3.11/dist-packages (from keypoint-moseq) (3.10.2)\n",
            "Collecting bokeh (from keypoint-moseq)\n",
            "  Downloading bokeh-2.4.3-py3-none-any.whl.metadata (14 kB)\n",
            "Collecting panel==0.14.4 (from keypoint-moseq)\n",
            "  Downloading panel-0.14.4-py2.py3-none-any.whl.metadata (21 kB)\n",
            "Collecting holoviews==1.15.4 (from keypoint-moseq)\n",
            "  Downloading holoviews-1.15.4-py2.py3-none-any.whl.metadata (22 kB)\n",
            "Requirement already satisfied: networkx in /usr/local/lib/python3.11/dist-packages (from keypoint-moseq) (3.4.2)\n",
            "Collecting sleap_io (from keypoint-moseq)\n",
            "  Downloading sleap_io-0.2.0-py3-none-any.whl.metadata (5.0 kB)\n",
            "Collecting pynwb (from keypoint-moseq)\n",
            "  Downloading pynwb-3.0.0-py3-none-any.whl.metadata (8.9 kB)\n",
            "Collecting ndx_pose (from keypoint-moseq)\n",
            "  Downloading ndx_pose-0.2.1-py3-none-any.whl.metadata (10 kB)\n",
            "Requirement already satisfied: plotly in /usr/local/lib/python3.11/dist-packages (from keypoint-moseq) (5.24.1)\n",
            "Requirement already satisfied: ipython_genutils in /usr/local/lib/python3.11/dist-packages (from keypoint-moseq) (0.2.0)\n",
            "Requirement already satisfied: tabulate in /usr/local/lib/python3.11/dist-packages (from keypoint-moseq) (0.9.0)\n",
            "Collecting commentjson (from keypoint-moseq)\n",
            "  Downloading commentjson-0.9.0.tar.gz (8.7 kB)\n",
            "  Preparing metadata (setup.py) ... \u001b[?25l\u001b[?25hdone\n",
            "Collecting jax-moseq (from keypoint-moseq)\n",
            "  Downloading jax_moseq-0.3.1.tar.gz (62 kB)\n",
            "\u001b[2K     \u001b[90m━━━━━━━━━━━━━━━━━━━━━━━━━━━━━━━━━━━━━━━━\u001b[0m \u001b[32m62.8/62.8 kB\u001b[0m \u001b[31m5.2 MB/s\u001b[0m eta \u001b[36m0:00:00\u001b[0m\n",
            "\u001b[?25h  Preparing metadata (setup.py) ... \u001b[?25l\u001b[?25hdone\n",
            "Collecting numpy<=1.26.4 (from keypoint-moseq)\n",
            "  Downloading numpy-1.26.4-cp311-cp311-manylinux_2_17_x86_64.manylinux2014_x86_64.whl.metadata (61 kB)\n",
            "\u001b[2K     \u001b[90m━━━━━━━━━━━━━━━━━━━━━━━━━━━━━━━━━━━━━━━━\u001b[0m \u001b[32m61.0/61.0 kB\u001b[0m \u001b[31m1.8 MB/s\u001b[0m eta \u001b[36m0:00:00\u001b[0m\n",
            "\u001b[?25hRequirement already satisfied: ipywidgets in /usr/local/lib/python3.11/dist-packages (from keypoint-moseq) (7.7.1)\n",
            "Collecting ipympl (from keypoint-moseq)\n",
            "  Downloading ipympl-0.9.7-py3-none-any.whl.metadata (8.7 kB)\n",
            "Requirement already satisfied: Jinja2>=2.9 in /usr/local/lib/python3.11/dist-packages (from bokeh->keypoint-moseq) (3.1.6)\n",
            "Requirement already satisfied: packaging>=16.8 in /usr/local/lib/python3.11/dist-packages (from bokeh->keypoint-moseq) (24.2)\n",
            "Requirement already satisfied: pillow>=7.1.0 in /usr/local/lib/python3.11/dist-packages (from bokeh->keypoint-moseq) (11.2.1)\n",
            "Requirement already satisfied: tornado>=5.1 in /usr/local/lib/python3.11/dist-packages (from bokeh->keypoint-moseq) (6.4.2)\n",
            "Requirement already satisfied: typing-extensions>=3.10.0 in /usr/local/lib/python3.11/dist-packages (from bokeh->keypoint-moseq) (4.13.2)\n",
            "Collecting param<2.0,>=1.9.3 (from holoviews==1.15.4->keypoint-moseq)\n",
            "  Downloading param-1.13.0-py2.py3-none-any.whl.metadata (5.8 kB)\n",
            "Requirement already satisfied: pyviz-comms>=0.7.4 in /usr/local/lib/python3.11/dist-packages (from holoviews==1.15.4->keypoint-moseq) (3.0.4)\n",
            "Requirement already satisfied: colorcet in /usr/local/lib/python3.11/dist-packages (from holoviews==1.15.4->keypoint-moseq) (3.1.0)\n",
            "Requirement already satisfied: contourpy>=1.0.1 in /usr/local/lib/python3.11/dist-packages (from matplotlib==3.8.4->keypoint-moseq) (1.3.2)\n",
            "Requirement already satisfied: cycler>=0.10 in /usr/local/lib/python3.11/dist-packages (from matplotlib==3.8.4->keypoint-moseq) (0.12.1)\n",
            "Requirement already satisfied: fonttools>=4.22.0 in /usr/local/lib/python3.11/dist-packages (from matplotlib==3.8.4->keypoint-moseq) (4.57.0)\n",
            "Requirement already satisfied: kiwisolver>=1.3.1 in /usr/local/lib/python3.11/dist-packages (from matplotlib==3.8.4->keypoint-moseq) (1.4.8)\n",
            "Requirement already satisfied: pyparsing>=2.3.1 in /usr/local/lib/python3.11/dist-packages (from matplotlib==3.8.4->keypoint-moseq) (3.2.3)\n",
            "Requirement already satisfied: python-dateutil>=2.7 in /usr/local/lib/python3.11/dist-packages (from matplotlib==3.8.4->keypoint-moseq) (2.9.0.post0)\n",
            "Requirement already satisfied: markdown in /usr/local/lib/python3.11/dist-packages (from panel==0.14.4->keypoint-moseq) (3.8)\n",
            "Requirement already satisfied: requests in /usr/local/lib/python3.11/dist-packages (from panel==0.14.4->keypoint-moseq) (2.32.3)\n",
            "Collecting pyct>=0.4.4 (from panel==0.14.4->keypoint-moseq)\n",
            "  Downloading pyct-0.5.0-py2.py3-none-any.whl.metadata (7.4 kB)\n",
            "Requirement already satisfied: bleach in /usr/local/lib/python3.11/dist-packages (from panel==0.14.4->keypoint-moseq) (6.2.0)\n",
            "Requirement already satisfied: setuptools>=42 in /usr/local/lib/python3.11/dist-packages (from panel==0.14.4->keypoint-moseq) (75.2.0)\n",
            "Requirement already satisfied: pytz>=2020.1 in /usr/local/lib/python3.11/dist-packages (from pandas->keypoint-moseq) (2025.2)\n",
            "Requirement already satisfied: tzdata>=2022.7 in /usr/local/lib/python3.11/dist-packages (from pandas->keypoint-moseq) (2025.2)\n",
            "Collecting lark-parser<0.8.0,>=0.7.1 (from commentjson->keypoint-moseq)\n",
            "  Downloading lark-parser-0.7.8.tar.gz (276 kB)\n",
            "\u001b[2K     \u001b[90m━━━━━━━━━━━━━━━━━━━━━━━━━━━━━━━━━━━━━━\u001b[0m \u001b[32m276.2/276.2 kB\u001b[0m \u001b[31m23.2 MB/s\u001b[0m eta \u001b[36m0:00:00\u001b[0m\n",
            "\u001b[?25h  Preparing metadata (setup.py) ... \u001b[?25l\u001b[?25hdone\n",
            "Requirement already satisfied: toolz>=0.8.0 in /usr/local/lib/python3.11/dist-packages (from cytoolz->keypoint-moseq) (0.12.1)\n",
            "INFO: pip is looking at multiple versions of holoviews[recommended] to determine which version is compatible with other requirements. This could take a while.\n",
            "Collecting holoviews[recommended] (from keypoint-moseq)\n",
            "  Downloading holoviews-1.20.1-py3-none-any.whl.metadata (9.9 kB)\n",
            "  Downloading holoviews-1.20.0-py3-none-any.whl.metadata (9.9 kB)\n",
            "  Downloading holoviews-1.19.1-py3-none-any.whl.metadata (9.8 kB)\n",
            "  Downloading holoviews-1.19.0-py3-none-any.whl.metadata (9.8 kB)\n",
            "  Downloading holoviews-1.18.3-py2.py3-none-any.whl.metadata (21 kB)\n",
            "  Downloading holoviews-1.18.2-py2.py3-none-any.whl.metadata (20 kB)\n",
            "  Downloading holoviews-1.18.1-py2.py3-none-any.whl.metadata (20 kB)\n",
            "INFO: pip is still looking at multiple versions of holoviews[recommended] to determine which version is compatible with other requirements. This could take a while.\n",
            "  Downloading holoviews-1.18.0-py2.py3-none-any.whl.metadata (21 kB)\n",
            "  Downloading holoviews-1.17.1-py2.py3-none-any.whl.metadata (21 kB)\n",
            "  Downloading holoviews-1.17.0-py2.py3-none-any.whl.metadata (21 kB)\n",
            "  Downloading holoviews-1.16.2-py2.py3-none-any.whl.metadata (21 kB)\n",
            "  Downloading holoviews-1.16.1-py2.py3-none-any.whl.metadata (21 kB)\n",
            "INFO: This is taking longer than usual. You might need to provide the dependency resolver with stricter constraints to reduce runtime. See https://pip.pypa.io/warnings/backtracking for guidance. If you want to abort this run, press Ctrl + C.\n",
            "  Downloading holoviews-1.16.0-py2.py3-none-any.whl.metadata (22 kB)\n",
            "Requirement already satisfied: ipython>=5.4.0 in /usr/local/lib/python3.11/dist-packages (from holoviews[recommended]->keypoint-moseq) (7.34.0)\n",
            "Requirement already satisfied: notebook in /usr/local/lib/python3.11/dist-packages (from holoviews[recommended]->keypoint-moseq) (6.5.7)\n",
            "Requirement already satisfied: imageio-ffmpeg in /usr/local/lib/python3.11/dist-packages (from imageio[ffmpeg]->keypoint-moseq) (0.6.0)\n",
            "Requirement already satisfied: psutil in /usr/local/lib/python3.11/dist-packages (from imageio[ffmpeg]->keypoint-moseq) (5.9.5)\n",
            "Requirement already satisfied: debugpy>=1.0 in /usr/local/lib/python3.11/dist-packages (from ipykernel->keypoint-moseq) (1.8.0)\n",
            "Requirement already satisfied: jupyter-client>=6.1.12 in /usr/local/lib/python3.11/dist-packages (from ipykernel->keypoint-moseq) (6.1.12)\n",
            "Requirement already satisfied: matplotlib-inline>=0.1 in /usr/local/lib/python3.11/dist-packages (from ipykernel->keypoint-moseq) (0.1.7)\n",
            "Requirement already satisfied: nest-asyncio in /usr/local/lib/python3.11/dist-packages (from ipykernel->keypoint-moseq) (1.6.0)\n",
            "Requirement already satisfied: pyzmq>=17 in /usr/local/lib/python3.11/dist-packages (from ipykernel->keypoint-moseq) (24.0.1)\n",
            "Requirement already satisfied: traitlets>=5.1.0 in /usr/local/lib/python3.11/dist-packages (from ipykernel->keypoint-moseq) (5.7.1)\n",
            "Requirement already satisfied: widgetsnbextension~=3.6.0 in /usr/local/lib/python3.11/dist-packages (from ipywidgets->keypoint-moseq) (3.6.10)\n",
            "Requirement already satisfied: jupyterlab-widgets>=1.0.0 in /usr/local/lib/python3.11/dist-packages (from ipywidgets->keypoint-moseq) (3.0.14)\n",
            "Requirement already satisfied: numba>=0.56.4 in /usr/local/lib/python3.11/dist-packages (from jax-moseq->keypoint-moseq) (0.60.0)\n",
            "Collecting dynamax>=0.1.2 (from jax-moseq->keypoint-moseq)\n",
            "  Downloading dynamax-1.0.0-py3-none-any.whl.metadata (11 kB)\n",
            "Requirement already satisfied: optree in /usr/local/lib/python3.11/dist-packages (from jax-moseq->keypoint-moseq) (0.15.0)\n",
            "Collecting hdmf>=3.13.0 (from ndx_pose->keypoint-moseq)\n",
            "  Downloading hdmf-4.0.0-py3-none-any.whl.metadata (10 kB)\n",
            "Requirement already satisfied: h5py>=3.2.0 in /usr/local/lib/python3.11/dist-packages (from pynwb->keypoint-moseq) (3.13.0)\n",
            "Requirement already satisfied: tenacity>=6.2.0 in /usr/local/lib/python3.11/dist-packages (from plotly->keypoint-moseq) (9.1.2)\n",
            "Requirement already satisfied: attrs in /usr/local/lib/python3.11/dist-packages (from sleap_io->keypoint-moseq) (25.3.0)\n",
            "Collecting ndx_pose (from keypoint-moseq)\n",
            "  Downloading ndx_pose-0.1.1-py2.py3-none-any.whl.metadata (3.7 kB)\n",
            "Requirement already satisfied: simplejson in /usr/local/lib/python3.11/dist-packages (from sleap_io->keypoint-moseq) (3.20.1)\n",
            "Collecting pynwb (from keypoint-moseq)\n",
            "  Downloading pynwb-2.8.3-py3-none-any.whl.metadata (8.9 kB)\n",
            "Collecting hdmf<5,>=3.14.5 (from pynwb->keypoint-moseq)\n",
            "  Downloading hdmf-3.14.6-py3-none-any.whl.metadata (8.8 kB)\n",
            "Requirement already satisfied: scipy!=1.9.2,>=1.8 in /usr/local/lib/python3.11/dist-packages (from statsmodels->keypoint-moseq) (1.15.2)\n",
            "Requirement already satisfied: patsy>=0.5.6 in /usr/local/lib/python3.11/dist-packages (from statsmodels->keypoint-moseq) (1.0.1)\n",
            "Requirement already satisfied: numexpr>=2.6.2 in /usr/local/lib/python3.11/dist-packages (from tables->keypoint-moseq) (2.10.2)\n",
            "Requirement already satisfied: py-cpuinfo in /usr/local/lib/python3.11/dist-packages (from tables->keypoint-moseq) (9.0.0)\n",
            "Requirement already satisfied: blosc2>=2.3.0 in /usr/local/lib/python3.11/dist-packages (from tables->keypoint-moseq) (3.3.2)\n",
            "Requirement already satisfied: opencv-python-headless in /usr/local/lib/python3.11/dist-packages (from vidio->keypoint-moseq) (4.11.0.86)\n",
            "Requirement already satisfied: ndindex in /usr/local/lib/python3.11/dist-packages (from blosc2>=2.3.0->tables->keypoint-moseq) (1.9.2)\n",
            "Requirement already satisfied: msgpack in /usr/local/lib/python3.11/dist-packages (from blosc2>=2.3.0->tables->keypoint-moseq) (1.1.0)\n",
            "Requirement already satisfied: platformdirs in /usr/local/lib/python3.11/dist-packages (from blosc2>=2.3.0->tables->keypoint-moseq) (4.3.7)\n",
            "Requirement already satisfied: jax>=0.3.15 in /usr/local/lib/python3.11/dist-packages (from dynamax>=0.1.2->jax-moseq->keypoint-moseq) (0.5.2)\n",
            "Requirement already satisfied: jaxlib in /usr/local/lib/python3.11/dist-packages (from dynamax>=0.1.2->jax-moseq->keypoint-moseq) (0.5.1)\n",
            "Requirement already satisfied: fastprogress in /usr/local/lib/python3.11/dist-packages (from dynamax>=0.1.2->jax-moseq->keypoint-moseq) (1.0.3)\n",
            "Requirement already satisfied: optax in /usr/local/lib/python3.11/dist-packages (from dynamax>=0.1.2->jax-moseq->keypoint-moseq) (0.2.4)\n",
            "Requirement already satisfied: tensorflow_probability in /usr/local/lib/python3.11/dist-packages (from dynamax>=0.1.2->jax-moseq->keypoint-moseq) (0.25.0)\n",
            "Requirement already satisfied: scikit-learn in /usr/local/lib/python3.11/dist-packages (from dynamax>=0.1.2->jax-moseq->keypoint-moseq) (1.6.1)\n",
            "Collecting jaxtyping (from dynamax>=0.1.2->jax-moseq->keypoint-moseq)\n",
            "  Downloading jaxtyping-0.3.2-py3-none-any.whl.metadata (7.0 kB)\n",
            "Requirement already satisfied: jsonschema>=2.6.0 in /usr/local/lib/python3.11/dist-packages (from hdmf<5,>=3.14.5->pynwb->keypoint-moseq) (4.23.0)\n",
            "Collecting ruamel-yaml>=0.16 (from hdmf<5,>=3.14.5->pynwb->keypoint-moseq)\n",
            "  Downloading ruamel.yaml-0.18.10-py3-none-any.whl.metadata (23 kB)\n",
            "Collecting jedi>=0.16 (from ipython>=5.4.0->holoviews[recommended]->keypoint-moseq)\n",
            "  Downloading jedi-0.19.2-py2.py3-none-any.whl.metadata (22 kB)\n",
            "Requirement already satisfied: decorator in /usr/local/lib/python3.11/dist-packages (from ipython>=5.4.0->holoviews[recommended]->keypoint-moseq) (4.4.2)\n",
            "Requirement already satisfied: pickleshare in /usr/local/lib/python3.11/dist-packages (from ipython>=5.4.0->holoviews[recommended]->keypoint-moseq) (0.7.5)\n",
            "Requirement already satisfied: prompt-toolkit!=3.0.0,!=3.0.1,<3.1.0,>=2.0.0 in /usr/local/lib/python3.11/dist-packages (from ipython>=5.4.0->holoviews[recommended]->keypoint-moseq) (3.0.51)\n",
            "Requirement already satisfied: pygments in /usr/local/lib/python3.11/dist-packages (from ipython>=5.4.0->holoviews[recommended]->keypoint-moseq) (2.19.1)\n",
            "Requirement already satisfied: backcall in /usr/local/lib/python3.11/dist-packages (from ipython>=5.4.0->holoviews[recommended]->keypoint-moseq) (0.2.0)\n",
            "Requirement already satisfied: pexpect>4.3 in /usr/local/lib/python3.11/dist-packages (from ipython>=5.4.0->holoviews[recommended]->keypoint-moseq) (4.9.0)\n",
            "Requirement already satisfied: MarkupSafe>=2.0 in /usr/local/lib/python3.11/dist-packages (from Jinja2>=2.9->bokeh->keypoint-moseq) (3.0.2)\n",
            "Requirement already satisfied: jupyter-core>=4.6.0 in /usr/local/lib/python3.11/dist-packages (from jupyter-client>=6.1.12->ipykernel->keypoint-moseq) (5.7.2)\n",
            "Requirement already satisfied: llvmlite<0.44,>=0.43.0dev0 in /usr/local/lib/python3.11/dist-packages (from numba>=0.56.4->jax-moseq->keypoint-moseq) (0.43.0)\n",
            "Requirement already satisfied: six>=1.5 in /usr/local/lib/python3.11/dist-packages (from python-dateutil>=2.7->matplotlib==3.8.4->keypoint-moseq) (1.17.0)\n",
            "Requirement already satisfied: argon2-cffi in /usr/local/lib/python3.11/dist-packages (from notebook->holoviews[recommended]->keypoint-moseq) (23.1.0)\n",
            "Requirement already satisfied: nbformat in /usr/local/lib/python3.11/dist-packages (from notebook->holoviews[recommended]->keypoint-moseq) (5.10.4)\n",
            "Requirement already satisfied: nbconvert>=5 in /usr/local/lib/python3.11/dist-packages (from notebook->holoviews[recommended]->keypoint-moseq) (7.16.6)\n",
            "Requirement already satisfied: Send2Trash>=1.8.0 in /usr/local/lib/python3.11/dist-packages (from notebook->holoviews[recommended]->keypoint-moseq) (1.8.3)\n",
            "Requirement already satisfied: terminado>=0.8.3 in /usr/local/lib/python3.11/dist-packages (from notebook->holoviews[recommended]->keypoint-moseq) (0.18.1)\n",
            "Requirement already satisfied: prometheus-client in /usr/local/lib/python3.11/dist-packages (from notebook->holoviews[recommended]->keypoint-moseq) (0.21.1)\n",
            "Requirement already satisfied: nbclassic>=0.4.7 in /usr/local/lib/python3.11/dist-packages (from notebook->holoviews[recommended]->keypoint-moseq) (1.3.0)\n",
            "Requirement already satisfied: webencodings in /usr/local/lib/python3.11/dist-packages (from bleach->panel==0.14.4->keypoint-moseq) (0.5.1)\n",
            "Requirement already satisfied: charset-normalizer<4,>=2 in /usr/local/lib/python3.11/dist-packages (from requests->panel==0.14.4->keypoint-moseq) (3.4.1)\n",
            "Requirement already satisfied: idna<4,>=2.5 in /usr/local/lib/python3.11/dist-packages (from requests->panel==0.14.4->keypoint-moseq) (3.10)\n",
            "Requirement already satisfied: urllib3<3,>=1.21.1 in /usr/local/lib/python3.11/dist-packages (from requests->panel==0.14.4->keypoint-moseq) (2.4.0)\n",
            "Requirement already satisfied: certifi>=2017.4.17 in /usr/local/lib/python3.11/dist-packages (from requests->panel==0.14.4->keypoint-moseq) (2025.4.26)\n",
            "Requirement already satisfied: ml_dtypes>=0.4.0 in /usr/local/lib/python3.11/dist-packages (from jax>=0.3.15->dynamax>=0.1.2->jax-moseq->keypoint-moseq) (0.4.1)\n",
            "Requirement already satisfied: opt_einsum in /usr/local/lib/python3.11/dist-packages (from jax>=0.3.15->dynamax>=0.1.2->jax-moseq->keypoint-moseq) (3.4.0)\n",
            "Requirement already satisfied: parso<0.9.0,>=0.8.4 in /usr/local/lib/python3.11/dist-packages (from jedi>=0.16->ipython>=5.4.0->holoviews[recommended]->keypoint-moseq) (0.8.4)\n",
            "Requirement already satisfied: jsonschema-specifications>=2023.03.6 in /usr/local/lib/python3.11/dist-packages (from jsonschema>=2.6.0->hdmf<5,>=3.14.5->pynwb->keypoint-moseq) (2025.4.1)\n",
            "Requirement already satisfied: referencing>=0.28.4 in /usr/local/lib/python3.11/dist-packages (from jsonschema>=2.6.0->hdmf<5,>=3.14.5->pynwb->keypoint-moseq) (0.36.2)\n",
            "Requirement already satisfied: rpds-py>=0.7.1 in /usr/local/lib/python3.11/dist-packages (from jsonschema>=2.6.0->hdmf<5,>=3.14.5->pynwb->keypoint-moseq) (0.24.0)\n",
            "Requirement already satisfied: notebook-shim>=0.2.3 in /usr/local/lib/python3.11/dist-packages (from nbclassic>=0.4.7->notebook->holoviews[recommended]->keypoint-moseq) (0.2.4)\n",
            "Requirement already satisfied: beautifulsoup4 in /usr/local/lib/python3.11/dist-packages (from nbconvert>=5->notebook->holoviews[recommended]->keypoint-moseq) (4.13.4)\n",
            "Requirement already satisfied: defusedxml in /usr/local/lib/python3.11/dist-packages (from nbconvert>=5->notebook->holoviews[recommended]->keypoint-moseq) (0.7.1)\n",
            "Requirement already satisfied: jupyterlab-pygments in /usr/local/lib/python3.11/dist-packages (from nbconvert>=5->notebook->holoviews[recommended]->keypoint-moseq) (0.3.0)\n",
            "Requirement already satisfied: mistune<4,>=2.0.3 in /usr/local/lib/python3.11/dist-packages (from nbconvert>=5->notebook->holoviews[recommended]->keypoint-moseq) (3.1.3)\n",
            "Requirement already satisfied: nbclient>=0.5.0 in /usr/local/lib/python3.11/dist-packages (from nbconvert>=5->notebook->holoviews[recommended]->keypoint-moseq) (0.10.2)\n",
            "Requirement already satisfied: pandocfilters>=1.4.1 in /usr/local/lib/python3.11/dist-packages (from nbconvert>=5->notebook->holoviews[recommended]->keypoint-moseq) (1.5.1)\n",
            "Requirement already satisfied: fastjsonschema>=2.15 in /usr/local/lib/python3.11/dist-packages (from nbformat->notebook->holoviews[recommended]->keypoint-moseq) (2.21.1)\n",
            "Requirement already satisfied: ptyprocess>=0.5 in /usr/local/lib/python3.11/dist-packages (from pexpect>4.3->ipython>=5.4.0->holoviews[recommended]->keypoint-moseq) (0.7.0)\n",
            "Requirement already satisfied: wcwidth in /usr/local/lib/python3.11/dist-packages (from prompt-toolkit!=3.0.0,!=3.0.1,<3.1.0,>=2.0.0->ipython>=5.4.0->holoviews[recommended]->keypoint-moseq) (0.2.13)\n",
            "Collecting ruamel.yaml.clib>=0.2.7 (from ruamel-yaml>=0.16->hdmf<5,>=3.14.5->pynwb->keypoint-moseq)\n",
            "  Downloading ruamel.yaml.clib-0.2.12-cp311-cp311-manylinux_2_17_x86_64.manylinux2014_x86_64.whl.metadata (2.7 kB)\n",
            "Requirement already satisfied: argon2-cffi-bindings in /usr/local/lib/python3.11/dist-packages (from argon2-cffi->notebook->holoviews[recommended]->keypoint-moseq) (21.2.0)\n",
            "Collecting wadler-lindig>=0.1.3 (from jaxtyping->dynamax>=0.1.2->jax-moseq->keypoint-moseq)\n",
            "  Downloading wadler_lindig-0.1.5-py3-none-any.whl.metadata (17 kB)\n",
            "Requirement already satisfied: absl-py>=0.7.1 in /usr/local/lib/python3.11/dist-packages (from optax->dynamax>=0.1.2->jax-moseq->keypoint-moseq) (1.4.0)\n",
            "Requirement already satisfied: chex>=0.1.87 in /usr/local/lib/python3.11/dist-packages (from optax->dynamax>=0.1.2->jax-moseq->keypoint-moseq) (0.1.89)\n",
            "Requirement already satisfied: etils[epy] in /usr/local/lib/python3.11/dist-packages (from optax->dynamax>=0.1.2->jax-moseq->keypoint-moseq) (1.12.2)\n",
            "Requirement already satisfied: joblib>=1.2.0 in /usr/local/lib/python3.11/dist-packages (from scikit-learn->dynamax>=0.1.2->jax-moseq->keypoint-moseq) (1.4.2)\n",
            "Requirement already satisfied: threadpoolctl>=3.1.0 in /usr/local/lib/python3.11/dist-packages (from scikit-learn->dynamax>=0.1.2->jax-moseq->keypoint-moseq) (3.6.0)\n",
            "Requirement already satisfied: cloudpickle>=1.3 in /usr/local/lib/python3.11/dist-packages (from tensorflow_probability->dynamax>=0.1.2->jax-moseq->keypoint-moseq) (3.1.1)\n",
            "Requirement already satisfied: gast>=0.3.2 in /usr/local/lib/python3.11/dist-packages (from tensorflow_probability->dynamax>=0.1.2->jax-moseq->keypoint-moseq) (0.6.0)\n",
            "Requirement already satisfied: dm-tree in /usr/local/lib/python3.11/dist-packages (from tensorflow_probability->dynamax>=0.1.2->jax-moseq->keypoint-moseq) (0.1.9)\n",
            "Requirement already satisfied: tinycss2<1.5,>=1.1.0 in /usr/local/lib/python3.11/dist-packages (from bleach[css]!=5.0.0->nbconvert>=5->notebook->holoviews[recommended]->keypoint-moseq) (1.4.0)\n",
            "Requirement already satisfied: jupyter-server<3,>=1.8 in /usr/local/lib/python3.11/dist-packages (from notebook-shim>=0.2.3->nbclassic>=0.4.7->notebook->holoviews[recommended]->keypoint-moseq) (1.16.0)\n",
            "Requirement already satisfied: cffi>=1.0.1 in /usr/local/lib/python3.11/dist-packages (from argon2-cffi-bindings->argon2-cffi->notebook->holoviews[recommended]->keypoint-moseq) (1.17.1)\n",
            "Requirement already satisfied: soupsieve>1.2 in /usr/local/lib/python3.11/dist-packages (from beautifulsoup4->nbconvert>=5->notebook->holoviews[recommended]->keypoint-moseq) (2.7)\n",
            "Requirement already satisfied: wrapt>=1.11.2 in /usr/local/lib/python3.11/dist-packages (from dm-tree->tensorflow_probability->dynamax>=0.1.2->jax-moseq->keypoint-moseq) (1.17.2)\n",
            "Requirement already satisfied: pycparser in /usr/local/lib/python3.11/dist-packages (from cffi>=1.0.1->argon2-cffi-bindings->argon2-cffi->notebook->holoviews[recommended]->keypoint-moseq) (2.22)\n",
            "Requirement already satisfied: anyio>=3.1.0 in /usr/local/lib/python3.11/dist-packages (from jupyter-server<3,>=1.8->notebook-shim>=0.2.3->nbclassic>=0.4.7->notebook->holoviews[recommended]->keypoint-moseq) (4.9.0)\n",
            "Requirement already satisfied: websocket-client in /usr/local/lib/python3.11/dist-packages (from jupyter-server<3,>=1.8->notebook-shim>=0.2.3->nbclassic>=0.4.7->notebook->holoviews[recommended]->keypoint-moseq) (1.8.0)\n",
            "Requirement already satisfied: sniffio>=1.1 in /usr/local/lib/python3.11/dist-packages (from anyio>=3.1.0->jupyter-server<3,>=1.8->notebook-shim>=0.2.3->nbclassic>=0.4.7->notebook->holoviews[recommended]->keypoint-moseq) (1.3.1)\n",
            "Downloading bokeh-2.4.3-py3-none-any.whl (18.5 MB)\n",
            "\u001b[2K   \u001b[90m━━━━━━━━━━━━━━━━━━━━━━━━━━━━━━━━━━━━━━━━\u001b[0m \u001b[32m18.5/18.5 MB\u001b[0m \u001b[31m79.4 MB/s\u001b[0m eta \u001b[36m0:00:00\u001b[0m\n",
            "\u001b[?25hDownloading holoviews-1.15.4-py2.py3-none-any.whl (4.3 MB)\n",
            "\u001b[2K   \u001b[90m━━━━━━━━━━━━━━━━━━━━━━━━━━━━━━━━━━━━━━━━\u001b[0m \u001b[32m4.3/4.3 MB\u001b[0m \u001b[31m10.5 MB/s\u001b[0m eta \u001b[36m0:00:00\u001b[0m\n",
            "\u001b[?25hDownloading matplotlib-3.8.4-cp311-cp311-manylinux_2_17_x86_64.manylinux2014_x86_64.whl (11.6 MB)\n",
            "\u001b[2K   \u001b[90m━━━━━━━━━━━━━━━━━━━━━━━━━━━━━━━━━━━━━━━━\u001b[0m \u001b[32m11.6/11.6 MB\u001b[0m \u001b[31m39.7 MB/s\u001b[0m eta \u001b[36m0:00:00\u001b[0m\n",
            "\u001b[?25hDownloading panel-0.14.4-py2.py3-none-any.whl (20.8 MB)\n",
            "\u001b[2K   \u001b[90m━━━━━━━━━━━━━━━━━━━━━━━━━━━━━━━━━━━━━━━━\u001b[0m \u001b[32m20.8/20.8 MB\u001b[0m \u001b[31m32.8 MB/s\u001b[0m eta \u001b[36m0:00:00\u001b[0m\n",
            "\u001b[?25hDownloading seaborn-0.13.0-py3-none-any.whl (294 kB)\n",
            "\u001b[2K   \u001b[90m━━━━━━━━━━━━━━━━━━━━━━━━━━━━━━━━━━━━━━━━\u001b[0m \u001b[32m294.6/294.6 kB\u001b[0m \u001b[31m32.3 MB/s\u001b[0m eta \u001b[36m0:00:00\u001b[0m\n",
            "\u001b[?25hDownloading numpy-1.26.4-cp311-cp311-manylinux_2_17_x86_64.manylinux2014_x86_64.whl (18.3 MB)\n",
            "\u001b[2K   \u001b[90m━━━━━━━━━━━━━━━━━━━━━━━━━━━━━━━━━━━━━━━━\u001b[0m \u001b[32m18.3/18.3 MB\u001b[0m \u001b[31m89.4 MB/s\u001b[0m eta \u001b[36m0:00:00\u001b[0m\n",
            "\u001b[?25hDownloading cytoolz-1.0.1-cp311-cp311-manylinux_2_17_x86_64.manylinux2014_x86_64.whl (2.1 MB)\n",
            "\u001b[2K   \u001b[90m━━━━━━━━━━━━━━━━━━━━━━━━━━━━━━━━━━━━━━━━\u001b[0m \u001b[32m2.1/2.1 MB\u001b[0m \u001b[31m102.7 MB/s\u001b[0m eta \u001b[36m0:00:00\u001b[0m\n",
            "\u001b[?25hDownloading ipympl-0.9.7-py3-none-any.whl (515 kB)\n",
            "\u001b[2K   \u001b[90m━━━━━━━━━━━━━━━━━━━━━━━━━━━━━━━━━━━━━━━━\u001b[0m \u001b[32m515.7/515.7 kB\u001b[0m \u001b[31m48.2 MB/s\u001b[0m eta \u001b[36m0:00:00\u001b[0m\n",
            "\u001b[?25hDownloading sleap_io-0.2.0-py3-none-any.whl (92 kB)\n",
            "\u001b[2K   \u001b[90m━━━━━━━━━━━━━━━━━━━━━━━━━━━━━━━━━━━━━━━━\u001b[0m \u001b[32m92.8/92.8 kB\u001b[0m \u001b[31m11.8 MB/s\u001b[0m eta \u001b[36m0:00:00\u001b[0m\n",
            "\u001b[?25hDownloading ndx_pose-0.1.1-py2.py3-none-any.whl (8.3 kB)\n",
            "Downloading pynwb-2.8.3-py3-none-any.whl (1.4 MB)\n",
            "\u001b[2K   \u001b[90m━━━━━━━━━━━━━━━━━━━━━━━━━━━━━━━━━━━━━━━━\u001b[0m \u001b[32m1.4/1.4 MB\u001b[0m \u001b[31m48.6 MB/s\u001b[0m eta \u001b[36m0:00:00\u001b[0m\n",
            "\u001b[?25hDownloading vidio-0.0.4-py3-none-any.whl (10 kB)\n",
            "Downloading dynamax-1.0.0-py3-none-any.whl (155 kB)\n",
            "\u001b[2K   \u001b[90m━━━━━━━━━━━━━━━━━━━━━━━━━━━━━━━━━━━━━━━━\u001b[0m \u001b[32m155.7/155.7 kB\u001b[0m \u001b[31m21.5 MB/s\u001b[0m eta \u001b[36m0:00:00\u001b[0m\n",
            "\u001b[?25hDownloading hdmf-3.14.6-py3-none-any.whl (340 kB)\n",
            "\u001b[2K   \u001b[90m━━━━━━━━━━━━━━━━━━━━━━━━━━━━━━━━━━━━━━━━\u001b[0m \u001b[32m340.3/340.3 kB\u001b[0m \u001b[31m39.8 MB/s\u001b[0m eta \u001b[36m0:00:00\u001b[0m\n",
            "\u001b[?25hDownloading param-1.13.0-py2.py3-none-any.whl (87 kB)\n",
            "\u001b[2K   \u001b[90m━━━━━━━━━━━━━━━━━━━━━━━━━━━━━━━━━━━━━━━━\u001b[0m \u001b[32m87.3/87.3 kB\u001b[0m \u001b[31m11.7 MB/s\u001b[0m eta \u001b[36m0:00:00\u001b[0m\n",
            "\u001b[?25hDownloading pyct-0.5.0-py2.py3-none-any.whl (15 kB)\n",
            "Downloading jedi-0.19.2-py2.py3-none-any.whl (1.6 MB)\n",
            "\u001b[2K   \u001b[90m━━━━━━━━━━━━━━━━━━━━━━━━━━━━━━━━━━━━━━━━\u001b[0m \u001b[32m1.6/1.6 MB\u001b[0m \u001b[31m88.6 MB/s\u001b[0m eta \u001b[36m0:00:00\u001b[0m\n",
            "\u001b[?25hDownloading ruamel.yaml-0.18.10-py3-none-any.whl (117 kB)\n",
            "\u001b[2K   \u001b[90m━━━━━━━━━━━━━━━━━━━━━━━━━━━━━━━━━━━━━━━━\u001b[0m \u001b[32m117.7/117.7 kB\u001b[0m \u001b[31m15.7 MB/s\u001b[0m eta \u001b[36m0:00:00\u001b[0m\n",
            "\u001b[?25hDownloading jaxtyping-0.3.2-py3-none-any.whl (55 kB)\n",
            "\u001b[2K   \u001b[90m━━━━━━━━━━━━━━━━━━━━━━━━━━━━━━━━━━━━━━━━\u001b[0m \u001b[32m55.4/55.4 kB\u001b[0m \u001b[31m7.0 MB/s\u001b[0m eta \u001b[36m0:00:00\u001b[0m\n",
            "\u001b[?25hDownloading ruamel.yaml.clib-0.2.12-cp311-cp311-manylinux_2_17_x86_64.manylinux2014_x86_64.whl (739 kB)\n",
            "\u001b[2K   \u001b[90m━━━━━━━━━━━━━━━━━━━━━━━━━━━━━━━━━━━━━━━━\u001b[0m \u001b[32m739.1/739.1 kB\u001b[0m \u001b[31m62.4 MB/s\u001b[0m eta \u001b[36m0:00:00\u001b[0m\n",
            "\u001b[?25hDownloading wadler_lindig-0.1.5-py3-none-any.whl (20 kB)\n",
            "Building wheels for collected packages: keypoint-moseq, commentjson, jax-moseq, lark-parser\n",
            "  Building wheel for keypoint-moseq (setup.py) ... \u001b[?25l\u001b[?25hdone\n",
            "  Created wheel for keypoint-moseq: filename=keypoint_moseq-0.6.0-py3-none-any.whl size=77671 sha256=78d91f3f22fa8b02cd3899337e34ae8760074193888f5e905e44da9c7d3100e0\n",
            "  Stored in directory: /root/.cache/pip/wheels/2d/1c/1f/62cf469f0ace5c7c2dbea7e8b0535883350c788a543e770ad2\n",
            "  Building wheel for commentjson (setup.py) ... \u001b[?25l\u001b[?25hdone\n",
            "  Created wheel for commentjson: filename=commentjson-0.9.0-py3-none-any.whl size=12077 sha256=6e0e0dde28c1bcd95349b054c1ec3ed475895fff68f0f407756a66de0dc4b2ad\n",
            "  Stored in directory: /root/.cache/pip/wheels/f2/cb/58/77f1f0b3f5fa6eb3335cb0cb73de4d4bef93489dc3a3373ae8\n",
            "  Building wheel for jax-moseq (setup.py) ... \u001b[?25l\u001b[?25hdone\n",
            "  Created wheel for jax-moseq: filename=jax_moseq-0.3.1-py3-none-any.whl size=60003 sha256=2c799ba1c534819e8645780b77660b9e8f0155615d08ba4280cbc114120449e9\n",
            "  Stored in directory: /root/.cache/pip/wheels/6d/4d/16/a9188bd80ab744a13321f3d352427a0480813ecabf5be90df7\n",
            "  Building wheel for lark-parser (setup.py) ... \u001b[?25l\u001b[?25hdone\n",
            "  Created wheel for lark-parser: filename=lark_parser-0.7.8-py2.py3-none-any.whl size=62511 sha256=8cfe991e93e6f417bdc1524a6f905aa586cbc2b012968b6a5f45d5fd5ecd0902\n",
            "  Stored in directory: /root/.cache/pip/wheels/6c/c7/01/d277a7a673ffc81a1e71e816c2e5bc5f1602f9e8192c25d21c\n",
            "Successfully built keypoint-moseq commentjson jax-moseq lark-parser\n",
            "Installing collected packages: lark-parser, wadler-lindig, ruamel.yaml.clib, param, numpy, jedi, cytoolz, commentjson, ruamel-yaml, pyct, jaxtyping, bokeh, vidio, panel, matplotlib, seaborn, holoviews, hdmf, pynwb, ndx_pose, sleap_io, dynamax, jax-moseq, ipympl, keypoint-moseq\n",
            "  Attempting uninstall: param\n",
            "    Found existing installation: param 2.2.0\n",
            "    Uninstalling param-2.2.0:\n",
            "      Successfully uninstalled param-2.2.0\n",
            "  Attempting uninstall: numpy\n",
            "    Found existing installation: numpy 2.0.2\n",
            "    Uninstalling numpy-2.0.2:\n",
            "      Successfully uninstalled numpy-2.0.2\n",
            "  Attempting uninstall: bokeh\n",
            "    Found existing installation: bokeh 3.7.2\n",
            "    Uninstalling bokeh-3.7.2:\n",
            "      Successfully uninstalled bokeh-3.7.2\n",
            "  Attempting uninstall: panel\n",
            "    Found existing installation: panel 1.6.3\n",
            "    Uninstalling panel-1.6.3:\n",
            "      Successfully uninstalled panel-1.6.3\n",
            "  Attempting uninstall: matplotlib\n",
            "    Found existing installation: matplotlib 3.10.0\n",
            "    Uninstalling matplotlib-3.10.0:\n",
            "      Successfully uninstalled matplotlib-3.10.0\n",
            "  Attempting uninstall: seaborn\n",
            "    Found existing installation: seaborn 0.13.2\n",
            "    Uninstalling seaborn-0.13.2:\n",
            "      Successfully uninstalled seaborn-0.13.2\n",
            "  Attempting uninstall: holoviews\n",
            "    Found existing installation: holoviews 1.20.2\n",
            "    Uninstalling holoviews-1.20.2:\n",
            "      Successfully uninstalled holoviews-1.20.2\n",
            "\u001b[31mERROR: pip's dependency resolver does not currently take into account all the packages that are installed. This behaviour is the source of the following dependency conflicts.\n",
            "thinc 8.3.6 requires numpy<3.0.0,>=2.0.0, but you have numpy 1.26.4 which is incompatible.\u001b[0m\u001b[31m\n",
            "\u001b[0mSuccessfully installed bokeh-2.4.3 commentjson-0.9.0 cytoolz-1.0.1 dynamax-1.0.0 hdmf-3.14.6 holoviews-1.15.4 ipympl-0.9.7 jax-moseq-0.3.1 jaxtyping-0.3.2 jedi-0.19.2 keypoint-moseq-0.6.0 lark-parser-0.7.8 matplotlib-3.8.4 ndx_pose-0.1.1 numpy-1.26.4 panel-0.14.4 param-1.13.0 pyct-0.5.0 pynwb-2.8.3 ruamel-yaml-0.18.10 ruamel.yaml.clib-0.2.12 seaborn-0.13.0 sleap_io-0.2.0 vidio-0.0.4 wadler-lindig-0.1.5\n"
          ]
        },
        {
          "output_type": "display_data",
          "data": {
            "application/vnd.colab-display-data+json": {
              "pip_warning": {
                "packages": [
                  "matplotlib",
                  "mpl_toolkits"
                ]
              },
              "id": "a5c406e2854b4eb5b950f57cd426930e"
            }
          },
          "metadata": {}
        },
        {
          "output_type": "error",
          "ename": "KeyboardInterrupt",
          "evalue": "",
          "traceback": [
            "\u001b[0;31m---------------------------------------------------------------------------\u001b[0m",
            "\u001b[0;31mKeyboardInterrupt\u001b[0m                         Traceback (most recent call last)",
            "\u001b[0;32m<ipython-input-1-3e60878b2b37>\u001b[0m in \u001b[0;36m<cell line: 0>\u001b[0;34m()\u001b[0m\n\u001b[1;32m      3\u001b[0m \u001b[0;32mimport\u001b[0m \u001b[0mos\u001b[0m\u001b[0;34m\u001b[0m\u001b[0;34m\u001b[0m\u001b[0m\n\u001b[1;32m      4\u001b[0m \u001b[0;32mfrom\u001b[0m \u001b[0mgoogle\u001b[0m\u001b[0;34m.\u001b[0m\u001b[0mcolab\u001b[0m \u001b[0;32mimport\u001b[0m \u001b[0mdrive\u001b[0m\u001b[0;34m\u001b[0m\u001b[0;34m\u001b[0m\u001b[0m\n\u001b[0;32m----> 5\u001b[0;31m \u001b[0mdrive\u001b[0m\u001b[0;34m.\u001b[0m\u001b[0mmount\u001b[0m\u001b[0;34m(\u001b[0m\u001b[0;34m'/content/drive'\u001b[0m\u001b[0;34m)\u001b[0m\u001b[0;34m\u001b[0m\u001b[0;34m\u001b[0m\u001b[0m\n\u001b[0m",
            "\u001b[0;32m/usr/local/lib/python3.11/dist-packages/google/colab/drive.py\u001b[0m in \u001b[0;36mmount\u001b[0;34m(mountpoint, force_remount, timeout_ms, readonly)\u001b[0m\n\u001b[1;32m     98\u001b[0m \u001b[0;32mdef\u001b[0m \u001b[0mmount\u001b[0m\u001b[0;34m(\u001b[0m\u001b[0mmountpoint\u001b[0m\u001b[0;34m,\u001b[0m \u001b[0mforce_remount\u001b[0m\u001b[0;34m=\u001b[0m\u001b[0;32mFalse\u001b[0m\u001b[0;34m,\u001b[0m \u001b[0mtimeout_ms\u001b[0m\u001b[0;34m=\u001b[0m\u001b[0;36m120000\u001b[0m\u001b[0;34m,\u001b[0m \u001b[0mreadonly\u001b[0m\u001b[0;34m=\u001b[0m\u001b[0;32mFalse\u001b[0m\u001b[0;34m)\u001b[0m\u001b[0;34m:\u001b[0m\u001b[0;34m\u001b[0m\u001b[0;34m\u001b[0m\u001b[0m\n\u001b[1;32m     99\u001b[0m   \u001b[0;34m\"\"\"Mount your Google Drive at the specified mountpoint path.\"\"\"\u001b[0m\u001b[0;34m\u001b[0m\u001b[0;34m\u001b[0m\u001b[0m\n\u001b[0;32m--> 100\u001b[0;31m   return _mount(\n\u001b[0m\u001b[1;32m    101\u001b[0m       \u001b[0mmountpoint\u001b[0m\u001b[0;34m,\u001b[0m\u001b[0;34m\u001b[0m\u001b[0;34m\u001b[0m\u001b[0m\n\u001b[1;32m    102\u001b[0m       \u001b[0mforce_remount\u001b[0m\u001b[0;34m=\u001b[0m\u001b[0mforce_remount\u001b[0m\u001b[0;34m,\u001b[0m\u001b[0;34m\u001b[0m\u001b[0;34m\u001b[0m\u001b[0m\n",
            "\u001b[0;32m/usr/local/lib/python3.11/dist-packages/google/colab/drive.py\u001b[0m in \u001b[0;36m_mount\u001b[0;34m(mountpoint, force_remount, timeout_ms, ephemeral, readonly)\u001b[0m\n\u001b[1;32m    257\u001b[0m \u001b[0;34m\u001b[0m\u001b[0m\n\u001b[1;32m    258\u001b[0m   \u001b[0;32mwhile\u001b[0m \u001b[0;32mTrue\u001b[0m\u001b[0;34m:\u001b[0m\u001b[0;34m\u001b[0m\u001b[0;34m\u001b[0m\u001b[0m\n\u001b[0;32m--> 259\u001b[0;31m     case = d.expect([\n\u001b[0m\u001b[1;32m    260\u001b[0m         \u001b[0msuccess\u001b[0m\u001b[0;34m,\u001b[0m\u001b[0;34m\u001b[0m\u001b[0;34m\u001b[0m\u001b[0m\n\u001b[1;32m    261\u001b[0m         \u001b[0mprompt\u001b[0m\u001b[0;34m,\u001b[0m\u001b[0;34m\u001b[0m\u001b[0;34m\u001b[0m\u001b[0m\n",
            "\u001b[0;32m/usr/local/lib/python3.11/dist-packages/pexpect/spawnbase.py\u001b[0m in \u001b[0;36mexpect\u001b[0;34m(self, pattern, timeout, searchwindowsize, async_, **kw)\u001b[0m\n\u001b[1;32m    352\u001b[0m \u001b[0;34m\u001b[0m\u001b[0m\n\u001b[1;32m    353\u001b[0m         \u001b[0mcompiled_pattern_list\u001b[0m \u001b[0;34m=\u001b[0m \u001b[0mself\u001b[0m\u001b[0;34m.\u001b[0m\u001b[0mcompile_pattern_list\u001b[0m\u001b[0;34m(\u001b[0m\u001b[0mpattern\u001b[0m\u001b[0;34m)\u001b[0m\u001b[0;34m\u001b[0m\u001b[0;34m\u001b[0m\u001b[0m\n\u001b[0;32m--> 354\u001b[0;31m         return self.expect_list(compiled_pattern_list,\n\u001b[0m\u001b[1;32m    355\u001b[0m                 timeout, searchwindowsize, async_)\n\u001b[1;32m    356\u001b[0m \u001b[0;34m\u001b[0m\u001b[0m\n",
            "\u001b[0;32m/usr/local/lib/python3.11/dist-packages/pexpect/spawnbase.py\u001b[0m in \u001b[0;36mexpect_list\u001b[0;34m(self, pattern_list, timeout, searchwindowsize, async_, **kw)\u001b[0m\n\u001b[1;32m    381\u001b[0m             \u001b[0;32mreturn\u001b[0m \u001b[0mexpect_async\u001b[0m\u001b[0;34m(\u001b[0m\u001b[0mexp\u001b[0m\u001b[0;34m,\u001b[0m \u001b[0mtimeout\u001b[0m\u001b[0;34m)\u001b[0m\u001b[0;34m\u001b[0m\u001b[0;34m\u001b[0m\u001b[0m\n\u001b[1;32m    382\u001b[0m         \u001b[0;32melse\u001b[0m\u001b[0;34m:\u001b[0m\u001b[0;34m\u001b[0m\u001b[0;34m\u001b[0m\u001b[0m\n\u001b[0;32m--> 383\u001b[0;31m             \u001b[0;32mreturn\u001b[0m \u001b[0mexp\u001b[0m\u001b[0;34m.\u001b[0m\u001b[0mexpect_loop\u001b[0m\u001b[0;34m(\u001b[0m\u001b[0mtimeout\u001b[0m\u001b[0;34m)\u001b[0m\u001b[0;34m\u001b[0m\u001b[0;34m\u001b[0m\u001b[0m\n\u001b[0m\u001b[1;32m    384\u001b[0m \u001b[0;34m\u001b[0m\u001b[0m\n\u001b[1;32m    385\u001b[0m     def expect_exact(self, pattern_list, timeout=-1, searchwindowsize=-1,\n",
            "\u001b[0;32m/usr/local/lib/python3.11/dist-packages/pexpect/expect.py\u001b[0m in \u001b[0;36mexpect_loop\u001b[0;34m(self, timeout)\u001b[0m\n\u001b[1;32m    169\u001b[0m                 \u001b[0mincoming\u001b[0m \u001b[0;34m=\u001b[0m \u001b[0mspawn\u001b[0m\u001b[0;34m.\u001b[0m\u001b[0mread_nonblocking\u001b[0m\u001b[0;34m(\u001b[0m\u001b[0mspawn\u001b[0m\u001b[0;34m.\u001b[0m\u001b[0mmaxread\u001b[0m\u001b[0;34m,\u001b[0m \u001b[0mtimeout\u001b[0m\u001b[0;34m)\u001b[0m\u001b[0;34m\u001b[0m\u001b[0;34m\u001b[0m\u001b[0m\n\u001b[1;32m    170\u001b[0m                 \u001b[0;32mif\u001b[0m \u001b[0mself\u001b[0m\u001b[0;34m.\u001b[0m\u001b[0mspawn\u001b[0m\u001b[0;34m.\u001b[0m\u001b[0mdelayafterread\u001b[0m \u001b[0;32mis\u001b[0m \u001b[0;32mnot\u001b[0m \u001b[0;32mNone\u001b[0m\u001b[0;34m:\u001b[0m\u001b[0;34m\u001b[0m\u001b[0;34m\u001b[0m\u001b[0m\n\u001b[0;32m--> 171\u001b[0;31m                     \u001b[0mtime\u001b[0m\u001b[0;34m.\u001b[0m\u001b[0msleep\u001b[0m\u001b[0;34m(\u001b[0m\u001b[0mself\u001b[0m\u001b[0;34m.\u001b[0m\u001b[0mspawn\u001b[0m\u001b[0;34m.\u001b[0m\u001b[0mdelayafterread\u001b[0m\u001b[0;34m)\u001b[0m\u001b[0;34m\u001b[0m\u001b[0;34m\u001b[0m\u001b[0m\n\u001b[0m\u001b[1;32m    172\u001b[0m                 \u001b[0midx\u001b[0m \u001b[0;34m=\u001b[0m \u001b[0mself\u001b[0m\u001b[0;34m.\u001b[0m\u001b[0mnew_data\u001b[0m\u001b[0;34m(\u001b[0m\u001b[0mincoming\u001b[0m\u001b[0;34m)\u001b[0m\u001b[0;34m\u001b[0m\u001b[0;34m\u001b[0m\u001b[0m\n\u001b[1;32m    173\u001b[0m                 \u001b[0;31m# Keep reading until exception or return.\u001b[0m\u001b[0;34m\u001b[0m\u001b[0;34m\u001b[0m\u001b[0m\n",
            "\u001b[0;31mKeyboardInterrupt\u001b[0m: "
          ]
        }
      ],
      "source": [
        "! pip install -U keypoint-moseq\n",
        "\n",
        "import os\n",
        "from google.colab import drive\n",
        "drive.mount('/content/drive')"
      ]
    },
    {
      "cell_type": "markdown",
      "id": "df94500c",
      "metadata": {
        "id": "df94500c"
      },
      "source": [
        "### Option 1: Use our example dataset"
      ]
    },
    {
      "cell_type": "code",
      "execution_count": null,
      "id": "e944d0e1",
      "metadata": {
        "id": "e944d0e1"
      },
      "outputs": [],
      "source": [
        "import gdown\n",
        "url = 'https://drive.google.com/uc?id=1JGyS9MbdS3MtrlYnh4xdEQwe2bYoCuSZ'\n",
        "output = 'dlc_example_project.zip'\n",
        "gdown.download(url, output, quiet=False)\n",
        "! unzip dlc_example_project.zip\n",
        "\n",
        "data_dir = \"dlc_example_project\""
      ]
    },
    {
      "cell_type": "markdown",
      "id": "abad448e",
      "metadata": {
        "id": "abad448e"
      },
      "source": [
        "### Option 2: Use your own data\n",
        "Upload your data to google drive and then change the following path as needed"
      ]
    },
    {
      "cell_type": "code",
      "execution_count": null,
      "id": "f7df6bb2",
      "metadata": {
        "id": "f7df6bb2"
      },
      "outputs": [],
      "source": [
        "# data_dir = \"/content/drive/MyDrive/MY_DATA_DIRECTORY\""
      ]
    },
    {
      "cell_type": "markdown",
      "id": "f8a52043",
      "metadata": {
        "id": "f8a52043"
      },
      "source": [
        "# Project setup\n",
        "Create a new project directory with a keypoint-MoSeq `config.yml` file."
      ]
    },
    {
      "cell_type": "code",
      "execution_count": null,
      "id": "intermediate-kenya",
      "metadata": {
        "id": "intermediate-kenya"
      },
      "outputs": [],
      "source": [
        "import keypoint_moseq as kpms\n",
        "\n",
        "project_dir = '/content/drive/MyDrive/demo_project/'\n",
        "config = lambda: kpms.load_config(project_dir)"
      ]
    },
    {
      "cell_type": "markdown",
      "id": "012d8287",
      "metadata": {
        "id": "012d8287"
      },
      "source": [
        "### Option 1: Setup from DeepLabCut"
      ]
    },
    {
      "cell_type": "code",
      "execution_count": null,
      "id": "b4aa2fcd",
      "metadata": {
        "mystnb": {
          "code_prompt_hide": "Setup from DeepLabCut",
          "code_prompt_show": "Setup from DeepLabCut"
        },
        "tags": [
          "hide-cell"
        ],
        "id": "b4aa2fcd"
      },
      "outputs": [],
      "source": [
        "dlc_config = os.path.join(data_dir, 'config.yaml')\n",
        "kpms.setup_project(project_dir, deeplabcut_config=dlc_config)"
      ]
    },
    {
      "cell_type": "markdown",
      "id": "d8967d49",
      "metadata": {
        "id": "d8967d49"
      },
      "source": [
        "### Option 2: Setup from SLEAP"
      ]
    },
    {
      "cell_type": "code",
      "execution_count": null,
      "id": "0c13b902",
      "metadata": {
        "mystnb": {
          "code_prompt_hide": "Setup from SLEAP",
          "code_prompt_show": "Setup from SLEAP"
        },
        "tags": [
          "hide-cell"
        ],
        "id": "0c13b902"
      },
      "outputs": [],
      "source": [
        "# choose a .h5 file for one of your recordings\n",
        "# sleap_file = os.path.join(data_dir, 'SLEAP_FILE_NAME')\n",
        "# kpms.setup_project(project_dir, sleap_file=sleap_file)"
      ]
    },
    {
      "cell_type": "markdown",
      "id": "b9e62b8e",
      "metadata": {
        "id": "b9e62b8e"
      },
      "source": [
        "### Options 3: Manual setup"
      ]
    },
    {
      "cell_type": "code",
      "execution_count": null,
      "id": "0d804ac5",
      "metadata": {
        "mystnb": {
          "code_prompt_hide": "Custom setup",
          "code_prompt_show": "Custom setup"
        },
        "tags": [
          "hide-cell"
        ],
        "id": "0d804ac5"
      },
      "outputs": [],
      "source": [
        "# bodyparts=[\n",
        "#     'tail', 'spine4', 'spine3', 'spine2', 'spine1',\n",
        "#     'head', 'nose', 'right ear', 'left ear']\n",
        "\n",
        "# skeleton=[\n",
        "#     ['tail', 'spine4'],\n",
        "#     ['spine4', 'spine3'],\n",
        "#     ['spine3', 'spine2'],\n",
        "#     ['spine2', 'spine1'],\n",
        "#     ['spine1', 'head'],\n",
        "#     ['nose', 'head'],\n",
        "#     ['left ear', 'head'],\n",
        "#     ['right ear', 'head']]\n",
        "\n",
        "# video_dir = os.path.join(data_dir, 'videos')\n",
        "\n",
        "# kpms.setup_project(\n",
        "#     project_dir,\n",
        "#     video_dir=video_dir,\n",
        "#     bodyparts=bodyparts,\n",
        "#     skeleton=skeleton)"
      ]
    },
    {
      "cell_type": "markdown",
      "id": "gothic-viking",
      "metadata": {
        "id": "gothic-viking"
      },
      "source": [
        "## Edit the config file\n",
        "\n",
        "The config can be edited in a text editor or using the function `kpms.update_config`, as shown below. In general, the following parameters should be specified for each project:\n",
        "\n",
        "- `bodyparts` (name of each keypoint; automatically imported from SLEAP/DeepLabCut)\n",
        "- `use_bodyparts` (subset of bodyparts to use for modeling, set to all bodyparts by default; for mice we recommend excluding the tail)\n",
        "- `anterior_bodyparts` and `posterior_bodyparts` (used for rotational alignment)\n",
        "- `video_dir` (directory with videos of each experiment)\n",
        "- `fps` (frames per second of the input videos)\n",
        "\n",
        "Edit the config as follows for the [example DeepLabCut dataset](https://drive.google.com/drive/folders/1UNHQ_XCQEKLPPSjGspRopWBj6-YNDV6G?usp=share_link):"
      ]
    },
    {
      "cell_type": "code",
      "execution_count": null,
      "id": "theoretical-yahoo",
      "metadata": {
        "id": "theoretical-yahoo"
      },
      "outputs": [],
      "source": [
        "kpms.update_config(\n",
        "    project_dir,\n",
        "    video_dir=os.path.join(data_dir, 'videos'),\n",
        "    anterior_bodyparts=['nose'],\n",
        "    posterior_bodyparts=['spine4'],\n",
        "    use_bodyparts=[\n",
        "        'spine4', 'spine3', 'spine2', 'spine1',\n",
        "        'head', 'nose', 'right ear', 'left ear'],\n",
        "    fps=30)"
      ]
    },
    {
      "cell_type": "markdown",
      "id": "phantom-dating",
      "metadata": {
        "id": "phantom-dating"
      },
      "source": [
        "## Load data\n",
        "\n",
        "The code below shows how to load keypoint detections from DeepLabCut. To load other formats, replace `'deeplabcut'` in the example with one of `'sleap', 'anipose', 'sleap-anipose', 'nwb'`. For other formats, see the [FAQ](https://keypoint-moseq.readthedocs.io/en/latest/FAQs.html#loading-keypoint-tracking-data)."
      ]
    },
    {
      "cell_type": "code",
      "execution_count": null,
      "id": "expressed-christian",
      "metadata": {
        "id": "expressed-christian"
      },
      "outputs": [],
      "source": [
        "# load data (e.g. from DeepLabCut)\n",
        "keypoint_data_path = os.path.join(data_dir, 'videos') # can be a file, a directory, or a list of files\n",
        "coordinates, confidences, bodyparts = kpms.load_keypoints(keypoint_data_path, 'deeplabcut')\n",
        "\n",
        "# format data for modeling\n",
        "data, metadata = kpms.format_data(coordinates, confidences, **config())"
      ]
    },
    {
      "cell_type": "markdown",
      "id": "processed-struggle",
      "metadata": {
        "id": "processed-struggle"
      },
      "source": [
        "## Calibration\n",
        "\n",
        "The purpose of calibration is to learn the relationship between keypoint errors and confidence scores. The results are stored using the `slope` and `intercept` parameters in the config.\n",
        "\n",
        "- Run the cell below. A widget should appear with a video frame and the name of a bodypart. A yellow marker denotes the detected location of the bodypart.\n",
        "    \n",
        "- Annotate each frame with the correct location of the labeled bodypart\n",
        "    - Click on the image at the correct location - an \"X\" should appear.\n",
        "    - Use the prev/next buttons to annotate additional frames.\n",
        "    - Click and drag the bottom-right shaded corner of the widget to adjust image size.\n",
        "    - Use the toolbar to the left of the figure to pan and zoom.\n",
        "\n",
        "- We suggest annotating at least 50 frames.\n",
        "\n",
        "- Annotations will be automatically saved once you've completed at least 20 annotations.\n",
        "Each new annotation after that will trigger an auto-save of all your work.\n",
        "The message at the top of the widget will indicate when your annotations are being saved."
      ]
    },
    {
      "cell_type": "code",
      "execution_count": null,
      "id": "f1bd3baa",
      "metadata": {
        "id": "f1bd3baa"
      },
      "outputs": [],
      "source": [
        "%matplotlib widget\n",
        "kpms.noise_calibration(project_dir, coordinates, confidences, **config())"
      ]
    },
    {
      "cell_type": "markdown",
      "id": "organizational-theorem",
      "metadata": {
        "id": "organizational-theorem"
      },
      "source": [
        "## Fit PCA\n",
        "\n",
        "Run the cell below to fit a PCA model to aligned and centered keypoint coordinates.\n",
        "\n",
        "- The model is saved to ``{project_dir}/pca.p`` and can be reloaded using ``kpms.load_pca``.\n",
        "- Two plots are generated: a cumulative [scree plot](https://en.wikipedia.org/wiki/Scree_plot) and a depiction of each PC, where translucent nodes/edges represent the mean pose and opaque nodes/edges represent a perturbation in the direction of the PC.\n",
        "- After fitting, edit `latent_dimension` in the config. This determines the dimension of the pose trajectory used to fit keypoint-MoSeq. A good heuristic is the number of dimensions needed to explain 90% of variance, or 10 dimensions - whichever is lower.  "
      ]
    },
    {
      "cell_type": "code",
      "execution_count": null,
      "id": "respiratory-canvas",
      "metadata": {
        "id": "respiratory-canvas"
      },
      "outputs": [],
      "source": [
        "pca = kpms.fit_pca(**data, **config())\n",
        "kpms.save_pca(pca, project_dir)\n",
        "\n",
        "kpms.print_dims_to_explain_variance(pca, 0.9)\n",
        "kpms.plot_scree(pca, project_dir=project_dir)\n",
        "kpms.plot_pcs(pca, project_dir=project_dir, **config())\n",
        "\n",
        "# use the following to load an already fit model\n",
        "# pca = kpms.load_pca(project_dir)"
      ]
    },
    {
      "cell_type": "code",
      "execution_count": null,
      "id": "a1a3a9b6",
      "metadata": {
        "id": "a1a3a9b6"
      },
      "outputs": [],
      "source": [
        "kpms.update_config(project_dir, latent_dim=4)"
      ]
    },
    {
      "cell_type": "markdown",
      "id": "accomplished-pantyhose",
      "metadata": {
        "id": "accomplished-pantyhose"
      },
      "source": [
        "# Model fitting\n",
        "\n",
        "Fitting a keypoint-MoSeq model involves:\n",
        "1. **Initialization:** Auto-regressive (AR) parameters and syllable sequences are randomly initialized using pose trajectories from PCA.\n",
        "2. **Fitting an AR-HMM:** The AR parameters, transition probabilities and syllable sequences are iteratively updated through Gibbs sampling.\n",
        "3. **Fitting the full model:** All parameters, including both the AR-HMM as well as centroid, heading, noise-estimates and continuous latent states (i.e. pose trajectories) are iteratively updated through Gibbs sampling. This step is especially useful for noisy data.\n",
        "4. **Extracting model results:** The learned states of the model are parsed and saved to disk for vizualization and downstream analysis.\n",
        "4. **[Optional] Applying the trained model:** The learned model parameters can be used to infer a syllable sequences for additional data.\n",
        "\n",
        "## Setting kappa\n",
        "\n",
        "Most users will need to adjust the **kappa** hyperparameter to achieve the desired distribution of syllable durations. For this tutorial we chose kappa values that yielded a median syllable duration of 400ms (12 frames). Most users will need to tune kappa to their particular dataset. Higher values of kappa lead to longer syllables. **You will need to pick two kappas: one for AR-HMM fitting and one for the full model.**\n",
        "- We recommend iteratively updating kappa and refitting the model until the target syllable time-scale is attained.  \n",
        "- Model fitting can be stopped at any time by interrupting the kernel, and then restarted with a new kappa value.\n",
        "- The full model will generally require a lower value of kappa to yield the same target syllable durations.\n",
        "- To adjust the value of kappa in the model, use `kpms.update_hypparams` as shown below. Note that this command only changes kappa in the model dictionary, not the kappa value in the config file. The value in the config is only used during model initialization."
      ]
    },
    {
      "cell_type": "markdown",
      "id": "utility-penetration",
      "metadata": {
        "id": "utility-penetration"
      },
      "source": [
        "## Initialization"
      ]
    },
    {
      "cell_type": "code",
      "execution_count": null,
      "id": "found-administrator",
      "metadata": {
        "id": "found-administrator"
      },
      "outputs": [],
      "source": [
        "# initialize the model\n",
        "model = kpms.init_model(data, pca=pca, **config())\n",
        "\n",
        "# optionally modify kappa\n",
        "# model = kpms.update_hypparams(model, kappa=NUMBER)"
      ]
    },
    {
      "cell_type": "markdown",
      "id": "partial-remove",
      "metadata": {
        "id": "partial-remove"
      },
      "source": [
        "## Fitting an AR-HMM\n",
        "\n",
        "In addition to fitting an AR-HMM, the function below:\n",
        "- generates a name for the model and a corresponding directory in `project_dir`\n",
        "- saves a checkpoint every 25 iterations from which fitting can be restarted\n",
        "- plots the progress of fitting every 25 iterations, including\n",
        "    - the distributions of syllable frequencies and durations for the most recent iteration\n",
        "    - the change in median syllable duration across fitting iterations\n",
        "    - a sample of the syllable sequence across iterations in a random window"
      ]
    },
    {
      "cell_type": "code",
      "execution_count": null,
      "id": "888e6ff7",
      "metadata": {
        "scrolled": false,
        "id": "888e6ff7"
      },
      "outputs": [],
      "source": [
        "num_ar_iters = 50\n",
        "\n",
        "model, model_name = kpms.fit_model(\n",
        "    model, data, metadata, project_dir,\n",
        "    ar_only=True, num_iters=num_ar_iters)"
      ]
    },
    {
      "cell_type": "markdown",
      "id": "thorough-identity",
      "metadata": {
        "id": "thorough-identity"
      },
      "source": [
        "## Fitting the full model\n",
        "\n",
        "The following code fits a full keypoint-MoSeq model using the results of AR-HMM fitting for initialization. If using your own data, you may need to try a few values of kappa at this step."
      ]
    },
    {
      "cell_type": "code",
      "execution_count": null,
      "id": "swiss-repeat",
      "metadata": {
        "id": "swiss-repeat"
      },
      "outputs": [],
      "source": [
        "# load model checkpoint\n",
        "model, data, metadata, current_iter = kpms.load_checkpoint(\n",
        "    project_dir, model_name, iteration=num_ar_iters)\n",
        "\n",
        "# modify kappa to maintain the desired syllable time-scale\n",
        "model = kpms.update_hypparams(model, kappa=1e4)\n",
        "\n",
        "# run fitting for an additional 500 iters\n",
        "model = kpms.fit_model(\n",
        "    model, data, metadata, project_dir, model_name, ar_only=False,\n",
        "    start_iter=current_iter, num_iters=current_iter+500)[0]\n",
        ""
      ]
    },
    {
      "cell_type": "markdown",
      "id": "0837e0ad",
      "metadata": {
        "id": "0837e0ad"
      },
      "source": [
        "## Sort syllables by frequency\n",
        "\n",
        "Permute the states and parameters of a saved checkpoint so that syllables are labeled in order of frequency (i.e. so that `0` is the most frequent, `1` is the second most, and so on)."
      ]
    },
    {
      "cell_type": "code",
      "execution_count": null,
      "id": "902ccabf",
      "metadata": {
        "id": "902ccabf"
      },
      "outputs": [],
      "source": [
        "# modify a saved checkpoint so syllables are ordered by frequency\n",
        "kpms.reindex_syllables_in_checkpoint(project_dir, model_name);"
      ]
    },
    {
      "cell_type": "markdown",
      "id": "bc027d4a",
      "metadata": {
        "id": "bc027d4a"
      },
      "source": [
        "```{warning}\n",
        "Reindexing is only applied to the checkpoint file. Therefore, if you perform this step after extracting the modeling results or generating vizualizations, then those steps must be repeated.\n",
        "```"
      ]
    },
    {
      "cell_type": "markdown",
      "id": "79951b99",
      "metadata": {
        "id": "79951b99"
      },
      "source": [
        "## Extract model results\n",
        "\n",
        "Parse the modeling results and save them to `{project_dir}/{model_name}/results.h5`. The results are stored as follows, and can be reloaded at a later time using `kpms.load_results`. Check the docs for an [in-depth explanation of the modeling results](https://keypoint-moseq.readthedocs.io/en/latest/FAQs.html#interpreting-model-outputs).\n",
        "```\n",
        "    results.h5\n",
        "    ├──recording_name1\n",
        "    │  ├──syllable      # syllable labels (z)\n",
        "    │  ├──latent_state  # inferred low-dim pose state (x)\n",
        "    │  ├──centroid      # inferred centroid (v)\n",
        "    │  └──heading       # inferred heading (h)\n",
        "    ⋮\n",
        "```"
      ]
    },
    {
      "cell_type": "code",
      "execution_count": null,
      "id": "d8abffb5",
      "metadata": {
        "id": "d8abffb5"
      },
      "outputs": [],
      "source": [
        "# load the most recent model checkpoint\n",
        "model, data, metadata, current_iter = kpms.load_checkpoint(project_dir, model_name)\n",
        "\n",
        "# extract results\n",
        "results = kpms.extract_results(model, metadata, project_dir, model_name)"
      ]
    },
    {
      "cell_type": "markdown",
      "id": "a37f9d42",
      "metadata": {
        "id": "a37f9d42"
      },
      "source": [
        "### [Optional] Save results to csv\n",
        "\n",
        "After extracting to an h5 file, the results can also be saved as csv files. A separate file will be created for each recording and saved to `{project_dir}/{model_name}/results/`."
      ]
    },
    {
      "cell_type": "code",
      "execution_count": null,
      "id": "0ceea1e2",
      "metadata": {
        "id": "0ceea1e2"
      },
      "outputs": [],
      "source": [
        "# optionally save results as csv\n",
        "kpms.save_results_as_csv(results, project_dir, model_name)"
      ]
    },
    {
      "cell_type": "markdown",
      "id": "empty-houston",
      "metadata": {
        "id": "empty-houston"
      },
      "source": [
        "## Apply to new data\n",
        "\n",
        "The code below shows how to apply a trained model to new data. This is useful if you have performed new experiments and would like to maintain an existing set of syllables. The results for the new experiments will be added to the existing `results.h5` file. **This step is optional and can be skipped if you do not have new data to add**."
      ]
    },
    {
      "cell_type": "code",
      "execution_count": null,
      "id": "abae55fd",
      "metadata": {
        "id": "abae55fd"
      },
      "outputs": [],
      "source": [
        "# load the most recent model checkpoint and pca object\n",
        "# model = kpms.load_checkpoint(project_dir, model_name)[0]\n",
        "\n",
        "# # load new data (e.g. from deeplabcut)\n",
        "# new_data = 'path/to/new/data/' # can be a file, a directory, or a list of files\n",
        "# coordinates, confidences, bodyparts = kpms.load_keypoints(new_data, 'deeplabcut')\n",
        "# data, metadata = kpms.format_data(coordinates, confidences, **config())\n",
        "\n",
        "# # apply saved model to new data\n",
        "# results = kpms.apply_model(model, data, metadata, project_dir, model_name, **config())\n",
        "\n",
        "# optionally rerun `save_results_as_csv` to export the new results\n",
        "# kpms.save_results_as_csv(results, project_dir, model_name)"
      ]
    },
    {
      "cell_type": "markdown",
      "id": "breeding-fashion",
      "metadata": {
        "id": "breeding-fashion"
      },
      "source": [
        "# Visualization"
      ]
    },
    {
      "cell_type": "markdown",
      "id": "a2491a0d",
      "metadata": {
        "id": "a2491a0d"
      },
      "source": [
        "## Trajectory plots\n",
        "Generate plots showing the median trajectory of poses associated with each given syllable."
      ]
    },
    {
      "cell_type": "code",
      "execution_count": null,
      "id": "subject-disney",
      "metadata": {
        "id": "subject-disney"
      },
      "outputs": [],
      "source": [
        "results = kpms.load_results(project_dir, model_name)\n",
        "kpms.generate_trajectory_plots(coordinates, results, project_dir, model_name, **config())"
      ]
    },
    {
      "cell_type": "markdown",
      "id": "617a66ed",
      "metadata": {
        "id": "617a66ed"
      },
      "source": [
        "## Grid movies\n",
        "Generate video clips showing examples of each syllable.\n",
        "\n",
        "*Note: the code below will only work with 2D data. For 3D data, see the [FAQ](https://keypoint-moseq.readthedocs.io/en/latest/FAQs.html#making-grid-movies-for-3d-data).*"
      ]
    },
    {
      "cell_type": "code",
      "execution_count": null,
      "id": "dominant-packet",
      "metadata": {
        "id": "dominant-packet"
      },
      "outputs": [],
      "source": [
        "kpms.generate_grid_movies(results, project_dir, model_name, coordinates=coordinates, **config());"
      ]
    },
    {
      "cell_type": "markdown",
      "id": "d670667d",
      "metadata": {
        "id": "d670667d"
      },
      "source": [
        "## Syllable Dendrogram\n",
        "Plot a dendrogram representing distances between each syllable's median trajectory."
      ]
    },
    {
      "cell_type": "code",
      "execution_count": null,
      "id": "81a324c4",
      "metadata": {
        "id": "81a324c4"
      },
      "outputs": [],
      "source": [
        "kpms.plot_similarity_dendrogram(coordinates, results, project_dir, model_name, **config())"
      ]
    }
  ],
  "metadata": {
    "kernelspec": {
      "display_name": "keypoint_moseq",
      "language": "python",
      "name": "keypoint_moseq"
    },
    "language_info": {
      "codemirror_mode": {
        "name": "ipython",
        "version": 3
      },
      "file_extension": ".py",
      "mimetype": "text/x-python",
      "name": "python",
      "nbconvert_exporter": "python",
      "pygments_lexer": "ipython3",
      "version": "3.9.16"
    },
    "varInspector": {
      "cols": {
        "lenName": 16,
        "lenType": 16,
        "lenVar": 40
      },
      "kernels_config": {
        "python": {
          "delete_cmd_postfix": "",
          "delete_cmd_prefix": "del ",
          "library": "var_list.py",
          "varRefreshCmd": "print(var_dic_list())"
        },
        "r": {
          "delete_cmd_postfix": ") ",
          "delete_cmd_prefix": "rm(",
          "library": "var_list.r",
          "varRefreshCmd": "cat(var_dic_list()) "
        }
      },
      "types_to_exclude": [
        "module",
        "function",
        "builtin_function_or_method",
        "instance",
        "_Feature"
      ],
      "window_display": false
    },
    "colab": {
      "provenance": [],
      "gpuType": "T4"
    },
    "accelerator": "GPU"
  },
  "nbformat": 4,
  "nbformat_minor": 5
}